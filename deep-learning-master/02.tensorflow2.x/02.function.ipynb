{
 "cells": [
  {
   "cell_type": "code",
   "execution_count": 1,
   "metadata": {},
   "outputs": [],
   "source": [
    "import tensorflow as tf\n",
    "import numpy as np"
   ]
  },
  {
   "cell_type": "markdown",
   "metadata": {},
   "source": [
    "## Functions\n",
    "텐서플로우2에서는 함수를 어노테이션으로 정의\n",
    "@tf.function 어노테이션으로 정의된 함수는 eager execution 지원"
   ]
  },
  {
   "cell_type": "code",
   "execution_count": 2,
   "metadata": {},
   "outputs": [],
   "source": [
    "@tf.function\n",
    "def predict(x):\n",
    "  # declare our weights to have the same number of columns as our input\n",
    "  w = np.random.randn(1, x.shape[1])\n",
    "  # declare our bias to have the same number of rows but only one column\n",
    "  b = np.random.randn(x.shape[0], 1)\n",
    "  #carry out the operation\n",
    "  return tf.matmul(x, w, transpose_b=True) + b"
   ]
  },
  {
   "cell_type": "markdown",
   "metadata": {},
   "source": [
    "10 X 3 랜덤숫자로 된 행렬 생성"
   ]
  },
  {
   "cell_type": "code",
   "execution_count": 3,
   "metadata": {},
   "outputs": [
    {
     "data": {
      "text/plain": [
       "array([[0.56432471, 0.47573082, 0.29590905],\n",
       "       [0.80029736, 0.30112354, 0.37547536],\n",
       "       [0.15276436, 0.37672616, 0.13422095],\n",
       "       [0.55782922, 0.9256848 , 0.77564927],\n",
       "       [0.033265  , 0.7542747 , 0.38934197],\n",
       "       [0.56305037, 0.76979175, 0.80656674],\n",
       "       [0.85276434, 0.46625026, 0.47243524],\n",
       "       [0.37446708, 0.50754092, 0.18471304],\n",
       "       [0.67507903, 0.61271135, 0.78798176],\n",
       "       [0.36811951, 0.87689834, 0.94042367]])"
      ]
     },
     "execution_count": 3,
     "metadata": {},
     "output_type": "execute_result"
    }
   ],
   "source": [
    "x = np.random.rand(10, 3)\n",
    "x"
   ]
  },
  {
   "cell_type": "code",
   "execution_count": 4,
   "metadata": {},
   "outputs": [
    {
     "data": {
      "text/plain": [
       "<tf.Tensor: id=12, shape=(10, 1), dtype=float64, numpy=\n",
       "array([[ 0.27847697],\n",
       "       [-1.04275336],\n",
       "       [ 0.78990296],\n",
       "       [-0.2373674 ],\n",
       "       [-0.60528018],\n",
       "       [-0.80144194],\n",
       "       [-2.15891175],\n",
       "       [ 0.47086059],\n",
       "       [-0.10643425],\n",
       "       [-1.23225886]])>"
      ]
     },
     "execution_count": 4,
     "metadata": {},
     "output_type": "execute_result"
    }
   ],
   "source": [
    "y_hat = predict(x)\n",
    "y_hat"
   ]
  },
  {
   "cell_type": "code",
   "execution_count": 21,
   "metadata": {},
   "outputs": [
    {
     "data": {
      "text/plain": [
       "(10, 3)"
      ]
     },
     "execution_count": 21,
     "metadata": {},
     "output_type": "execute_result"
    }
   ],
   "source": [
    "x.shape"
   ]
  },
  {
   "cell_type": "code",
   "execution_count": null,
   "metadata": {},
   "outputs": [],
   "source": []
  }
 ],
 "metadata": {
  "kernelspec": {
   "display_name": "Python 3",
   "language": "python",
   "name": "python3"
  },
  "language_info": {
   "codemirror_mode": {
    "name": "ipython",
    "version": 3
   },
   "file_extension": ".py",
   "mimetype": "text/x-python",
   "name": "python",
   "nbconvert_exporter": "python",
   "pygments_lexer": "ipython3",
   "version": "3.7.2"
  }
 },
 "nbformat": 4,
 "nbformat_minor": 2
}
