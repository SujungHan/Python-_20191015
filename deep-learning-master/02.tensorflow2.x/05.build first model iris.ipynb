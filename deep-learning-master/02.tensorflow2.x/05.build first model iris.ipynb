{
 "cells": [
  {
   "cell_type": "markdown",
   "metadata": {},
   "source": [
    "# 붓꽃 분류하기"
   ]
  },
  {
   "cell_type": "code",
   "execution_count": 1,
   "metadata": {},
   "outputs": [],
   "source": [
    "import tensorflow as tf\n",
    "from tensorflow import keras\n",
    "import numpy as np\n",
    "import pandas as pd"
   ]
  },
  {
   "cell_type": "code",
   "execution_count": 2,
   "metadata": {},
   "outputs": [],
   "source": [
    "df = pd.read_csv('data/iris.csv')"
   ]
  },
  {
   "cell_type": "code",
   "execution_count": 3,
   "metadata": {},
   "outputs": [
    {
     "name": "stdout",
     "output_type": "stream",
     "text": [
      "<class 'pandas.core.frame.DataFrame'>\n",
      "RangeIndex: 150 entries, 0 to 149\n",
      "Data columns (total 5 columns):\n",
      "sepal_length    150 non-null float64\n",
      "sepal_width     150 non-null float64\n",
      "petal_length    150 non-null float64\n",
      "petal_width     150 non-null float64\n",
      "class           150 non-null object\n",
      "dtypes: float64(4), object(1)\n",
      "memory usage: 6.0+ KB\n"
     ]
    }
   ],
   "source": [
    "df.info()"
   ]
  },
  {
   "cell_type": "code",
   "execution_count": 4,
   "metadata": {},
   "outputs": [
    {
     "data": {
      "text/html": [
       "<div>\n",
       "<style scoped>\n",
       "    .dataframe tbody tr th:only-of-type {\n",
       "        vertical-align: middle;\n",
       "    }\n",
       "\n",
       "    .dataframe tbody tr th {\n",
       "        vertical-align: top;\n",
       "    }\n",
       "\n",
       "    .dataframe thead th {\n",
       "        text-align: right;\n",
       "    }\n",
       "</style>\n",
       "<table border=\"1\" class=\"dataframe\">\n",
       "  <thead>\n",
       "    <tr style=\"text-align: right;\">\n",
       "      <th></th>\n",
       "      <th>sepal_length</th>\n",
       "      <th>sepal_width</th>\n",
       "      <th>petal_length</th>\n",
       "      <th>petal_width</th>\n",
       "      <th>class</th>\n",
       "    </tr>\n",
       "  </thead>\n",
       "  <tbody>\n",
       "    <tr>\n",
       "      <td>0</td>\n",
       "      <td>5.1</td>\n",
       "      <td>3.5</td>\n",
       "      <td>1.4</td>\n",
       "      <td>0.2</td>\n",
       "      <td>Iris-setosa</td>\n",
       "    </tr>\n",
       "    <tr>\n",
       "      <td>1</td>\n",
       "      <td>4.9</td>\n",
       "      <td>3.0</td>\n",
       "      <td>1.4</td>\n",
       "      <td>0.2</td>\n",
       "      <td>Iris-setosa</td>\n",
       "    </tr>\n",
       "    <tr>\n",
       "      <td>2</td>\n",
       "      <td>4.7</td>\n",
       "      <td>3.2</td>\n",
       "      <td>1.3</td>\n",
       "      <td>0.2</td>\n",
       "      <td>Iris-setosa</td>\n",
       "    </tr>\n",
       "    <tr>\n",
       "      <td>3</td>\n",
       "      <td>4.6</td>\n",
       "      <td>3.1</td>\n",
       "      <td>1.5</td>\n",
       "      <td>0.2</td>\n",
       "      <td>Iris-setosa</td>\n",
       "    </tr>\n",
       "    <tr>\n",
       "      <td>4</td>\n",
       "      <td>5.0</td>\n",
       "      <td>3.6</td>\n",
       "      <td>1.4</td>\n",
       "      <td>0.2</td>\n",
       "      <td>Iris-setosa</td>\n",
       "    </tr>\n",
       "  </tbody>\n",
       "</table>\n",
       "</div>"
      ],
      "text/plain": [
       "   sepal_length  sepal_width  petal_length  petal_width        class\n",
       "0           5.1          3.5           1.4          0.2  Iris-setosa\n",
       "1           4.9          3.0           1.4          0.2  Iris-setosa\n",
       "2           4.7          3.2           1.3          0.2  Iris-setosa\n",
       "3           4.6          3.1           1.5          0.2  Iris-setosa\n",
       "4           5.0          3.6           1.4          0.2  Iris-setosa"
      ]
     },
     "execution_count": 4,
     "metadata": {},
     "output_type": "execute_result"
    }
   ],
   "source": [
    "df.head()"
   ]
  },
  {
   "cell_type": "markdown",
   "metadata": {},
   "source": [
    "#### 카테고리 타입을 int 형으로 변환"
   ]
  },
  {
   "cell_type": "code",
   "execution_count": 6,
   "metadata": {},
   "outputs": [],
   "source": [
    "df['class'] = df['class'].astype('category')\n",
    "df['class'] = df[['class']].apply(lambda x: x.cat.codes)"
   ]
  },
  {
   "cell_type": "code",
   "execution_count": 8,
   "metadata": {},
   "outputs": [
    {
     "data": {
      "text/plain": [
       "(   sepal_length  sepal_width  petal_length  petal_width  class\n",
       " 0           5.1          3.5           1.4          0.2      0\n",
       " 1           4.9          3.0           1.4          0.2      0\n",
       " 2           4.7          3.2           1.3          0.2      0\n",
       " 3           4.6          3.1           1.5          0.2      0\n",
       " 4           5.0          3.6           1.4          0.2      0,\n",
       "      sepal_length  sepal_width  petal_length  petal_width  class\n",
       " 145           6.7          3.0           5.2          2.3      2\n",
       " 146           6.3          2.5           5.0          1.9      2\n",
       " 147           6.5          3.0           5.2          2.0      2\n",
       " 148           6.2          3.4           5.4          2.3      2\n",
       " 149           5.9          3.0           5.1          1.8      2)"
      ]
     },
     "execution_count": 8,
     "metadata": {},
     "output_type": "execute_result"
    }
   ],
   "source": [
    "df.head(), df.tail()"
   ]
  },
  {
   "cell_type": "markdown",
   "metadata": {},
   "source": [
    "#### 데이터를 피처와 라벨로 분리"
   ]
  },
  {
   "cell_type": "code",
   "execution_count": 16,
   "metadata": {},
   "outputs": [],
   "source": [
    "features = df.drop('class', axis=1).values"
   ]
  },
  {
   "cell_type": "code",
   "execution_count": 17,
   "metadata": {},
   "outputs": [],
   "source": [
    "labels = df['class'].values"
   ]
  },
  {
   "cell_type": "markdown",
   "metadata": {},
   "source": [
    "### Train set 과 Test set 으로 분리"
   ]
  },
  {
   "cell_type": "code",
   "execution_count": 18,
   "metadata": {},
   "outputs": [],
   "source": [
    "train_features = features[:-1, :]"
   ]
  },
  {
   "cell_type": "code",
   "execution_count": 19,
   "metadata": {},
   "outputs": [],
   "source": [
    "test_features = feature[-1:]"
   ]
  },
  {
   "cell_type": "code",
   "execution_count": 20,
   "metadata": {},
   "outputs": [],
   "source": [
    "train_labels = labels[:-1]"
   ]
  },
  {
   "cell_type": "code",
   "execution_count": 21,
   "metadata": {},
   "outputs": [],
   "source": [
    "test_labels = labels[-1:]"
   ]
  },
  {
   "cell_type": "markdown",
   "metadata": {},
   "source": [
    "## Keras Sequence 모델 생성"
   ]
  },
  {
   "cell_type": "code",
   "execution_count": 82,
   "metadata": {},
   "outputs": [],
   "source": [
    "model = keras.Sequential([\n",
    "    keras.layers.Dense(32, activation='relu'),\n",
    "    keras.layers.Dense(3, activation='softmax')\n",
    "])"
   ]
  },
  {
   "cell_type": "markdown",
   "metadata": {},
   "source": [
    "### 모델 컴파일"
   ]
  },
  {
   "cell_type": "code",
   "execution_count": 83,
   "metadata": {},
   "outputs": [],
   "source": [
    "model.compile(\n",
    "    optimizer='adam',\n",
    "    loss='sparse_categorical_crossentropy',\n",
    "    metrics=['accuracy']\n",
    ")"
   ]
  },
  {
   "cell_type": "code",
   "execution_count": 86,
   "metadata": {},
   "outputs": [
    {
     "name": "stdout",
     "output_type": "stream",
     "text": [
      "Model: \"sequential_17\"\n",
      "_________________________________________________________________\n",
      "Layer (type)                 Output Shape              Param #   \n",
      "=================================================================\n",
      "dense_35 (Dense)             multiple                  160       \n",
      "_________________________________________________________________\n",
      "dense_36 (Dense)             multiple                  99        \n",
      "=================================================================\n",
      "Total params: 259\n",
      "Trainable params: 259\n",
      "Non-trainable params: 0\n",
      "_________________________________________________________________\n"
     ]
    }
   ],
   "source": [
    "model.summary()"
   ]
  },
  {
   "cell_type": "markdown",
   "metadata": {},
   "source": [
    "### 모델 학습"
   ]
  },
  {
   "cell_type": "code",
   "execution_count": 84,
   "metadata": {},
   "outputs": [
    {
     "name": "stdout",
     "output_type": "stream",
     "text": [
      "Train on 149 samples\n",
      "Epoch 1/100\n",
      "149/149 [==============================] - 0s 2ms/sample - loss: 1.8656 - accuracy: 0.3289\n",
      "Epoch 2/100\n",
      "149/149 [==============================] - 0s 55us/sample - loss: 1.7440 - accuracy: 0.3289\n",
      "Epoch 3/100\n",
      "149/149 [==============================] - 0s 65us/sample - loss: 1.6349 - accuracy: 0.3289\n",
      "Epoch 4/100\n",
      "149/149 [==============================] - 0s 60us/sample - loss: 1.5357 - accuracy: 0.3289\n",
      "Epoch 5/100\n",
      "149/149 [==============================] - 0s 55us/sample - loss: 1.4435 - accuracy: 0.3289\n",
      "Epoch 6/100\n",
      "149/149 [==============================] - 0s 60us/sample - loss: 1.3504 - accuracy: 0.3289\n",
      "Epoch 7/100\n",
      "149/149 [==============================] - 0s 61us/sample - loss: 1.2666 - accuracy: 0.4161\n",
      "Epoch 8/100\n",
      "149/149 [==============================] - 0s 64us/sample - loss: 1.1958 - accuracy: 0.5906\n",
      "Epoch 9/100\n",
      "149/149 [==============================] - 0s 59us/sample - loss: 1.1281 - accuracy: 0.6510\n",
      "Epoch 10/100\n",
      "149/149 [==============================] - 0s 56us/sample - loss: 1.0669 - accuracy: 0.6577\n",
      "Epoch 11/100\n",
      "149/149 [==============================] - 0s 59us/sample - loss: 1.0148 - accuracy: 0.6644\n",
      "Epoch 12/100\n",
      "149/149 [==============================] - 0s 55us/sample - loss: 0.9758 - accuracy: 0.6644\n",
      "Epoch 13/100\n",
      "149/149 [==============================] - 0s 62us/sample - loss: 0.9372 - accuracy: 0.6644\n",
      "Epoch 14/100\n",
      "149/149 [==============================] - 0s 56us/sample - loss: 0.9077 - accuracy: 0.6644\n",
      "Epoch 15/100\n",
      "149/149 [==============================] - 0s 61us/sample - loss: 0.8840 - accuracy: 0.6644\n",
      "Epoch 16/100\n",
      "149/149 [==============================] - 0s 59us/sample - loss: 0.8597 - accuracy: 0.6644\n",
      "Epoch 17/100\n",
      "149/149 [==============================] - 0s 61us/sample - loss: 0.8399 - accuracy: 0.6644\n",
      "Epoch 18/100\n",
      "149/149 [==============================] - 0s 61us/sample - loss: 0.8206 - accuracy: 0.6711\n",
      "Epoch 19/100\n",
      "149/149 [==============================] - 0s 59us/sample - loss: 0.8030 - accuracy: 0.6711\n",
      "Epoch 20/100\n",
      "149/149 [==============================] - 0s 64us/sample - loss: 0.7863 - accuracy: 0.6913\n",
      "Epoch 21/100\n",
      "149/149 [==============================] - 0s 54us/sample - loss: 0.7699 - accuracy: 0.6980\n",
      "Epoch 22/100\n",
      "149/149 [==============================] - 0s 58us/sample - loss: 0.7539 - accuracy: 0.6980\n",
      "Epoch 23/100\n",
      "149/149 [==============================] - 0s 66us/sample - loss: 0.7386 - accuracy: 0.7047\n",
      "Epoch 24/100\n",
      "149/149 [==============================] - 0s 60us/sample - loss: 0.7241 - accuracy: 0.7248\n",
      "Epoch 25/100\n",
      "149/149 [==============================] - 0s 62us/sample - loss: 0.7101 - accuracy: 0.7248\n",
      "Epoch 26/100\n",
      "149/149 [==============================] - 0s 55us/sample - loss: 0.6968 - accuracy: 0.7248\n",
      "Epoch 27/100\n",
      "149/149 [==============================] - 0s 60us/sample - loss: 0.6835 - accuracy: 0.7248\n",
      "Epoch 28/100\n",
      "149/149 [==============================] - 0s 56us/sample - loss: 0.6710 - accuracy: 0.7248\n",
      "Epoch 29/100\n",
      "149/149 [==============================] - 0s 65us/sample - loss: 0.6590 - accuracy: 0.7584\n",
      "Epoch 30/100\n",
      "149/149 [==============================] - 0s 62us/sample - loss: 0.6469 - accuracy: 0.8121\n",
      "Epoch 31/100\n",
      "149/149 [==============================] - 0s 55us/sample - loss: 0.6358 - accuracy: 0.8322\n",
      "Epoch 32/100\n",
      "149/149 [==============================] - 0s 63us/sample - loss: 0.6248 - accuracy: 0.8389\n",
      "Epoch 33/100\n",
      "149/149 [==============================] - 0s 56us/sample - loss: 0.6142 - accuracy: 0.8456\n",
      "Epoch 34/100\n",
      "149/149 [==============================] - 0s 59us/sample - loss: 0.6043 - accuracy: 0.8456\n",
      "Epoch 35/100\n",
      "149/149 [==============================] - 0s 60us/sample - loss: 0.5942 - accuracy: 0.8389\n",
      "Epoch 36/100\n",
      "149/149 [==============================] - 0s 57us/sample - loss: 0.5847 - accuracy: 0.8456\n",
      "Epoch 37/100\n",
      "149/149 [==============================] - 0s 61us/sample - loss: 0.5755 - accuracy: 0.8859\n",
      "Epoch 38/100\n",
      "149/149 [==============================] - 0s 56us/sample - loss: 0.5666 - accuracy: 0.8859\n",
      "Epoch 39/100\n",
      "149/149 [==============================] - 0s 60us/sample - loss: 0.5585 - accuracy: 0.8725\n",
      "Epoch 40/100\n",
      "149/149 [==============================] - 0s 58us/sample - loss: 0.5499 - accuracy: 0.8658\n",
      "Epoch 41/100\n",
      "149/149 [==============================] - 0s 59us/sample - loss: 0.5417 - accuracy: 0.8658\n",
      "Epoch 42/100\n",
      "149/149 [==============================] - 0s 64us/sample - loss: 0.5355 - accuracy: 0.9060\n",
      "Epoch 43/100\n",
      "149/149 [==============================] - 0s 55us/sample - loss: 0.5264 - accuracy: 0.9060\n",
      "Epoch 44/100\n",
      "149/149 [==============================] - 0s 63us/sample - loss: 0.5190 - accuracy: 0.8993\n",
      "Epoch 45/100\n",
      "149/149 [==============================] - 0s 74us/sample - loss: 0.5121 - accuracy: 0.8926\n",
      "Epoch 46/100\n",
      "149/149 [==============================] - 0s 99us/sample - loss: 0.5055 - accuracy: 0.9060\n",
      "Epoch 47/100\n",
      "149/149 [==============================] - 0s 69us/sample - loss: 0.4987 - accuracy: 0.9195\n",
      "Epoch 48/100\n",
      "149/149 [==============================] - 0s 70us/sample - loss: 0.4945 - accuracy: 0.9329\n",
      "Epoch 49/100\n",
      "149/149 [==============================] - 0s 68us/sample - loss: 0.4866 - accuracy: 0.9329\n",
      "Epoch 50/100\n",
      "149/149 [==============================] - 0s 66us/sample - loss: 0.4803 - accuracy: 0.9329\n",
      "Epoch 51/100\n",
      "149/149 [==============================] - 0s 74us/sample - loss: 0.4741 - accuracy: 0.9396\n",
      "Epoch 52/100\n",
      "149/149 [==============================] - 0s 78us/sample - loss: 0.4684 - accuracy: 0.9329\n",
      "Epoch 53/100\n",
      "149/149 [==============================] - 0s 61us/sample - loss: 0.4630 - accuracy: 0.9262\n",
      "Epoch 54/100\n",
      "149/149 [==============================] - 0s 71us/sample - loss: 0.4574 - accuracy: 0.9396\n",
      "Epoch 55/100\n",
      "149/149 [==============================] - 0s 63us/sample - loss: 0.4520 - accuracy: 0.9463\n",
      "Epoch 56/100\n",
      "149/149 [==============================] - 0s 65us/sample - loss: 0.4470 - accuracy: 0.9396\n",
      "Epoch 57/100\n",
      "149/149 [==============================] - 0s 68us/sample - loss: 0.4419 - accuracy: 0.9463\n",
      "Epoch 58/100\n",
      "149/149 [==============================] - 0s 73us/sample - loss: 0.4367 - accuracy: 0.9530\n",
      "Epoch 59/100\n",
      "149/149 [==============================] - 0s 66us/sample - loss: 0.4319 - accuracy: 0.9597\n",
      "Epoch 60/100\n",
      "149/149 [==============================] - 0s 61us/sample - loss: 0.4273 - accuracy: 0.9664\n",
      "Epoch 61/100\n",
      "149/149 [==============================] - 0s 60us/sample - loss: 0.4229 - accuracy: 0.9597\n",
      "Epoch 62/100\n",
      "149/149 [==============================] - 0s 60us/sample - loss: 0.4178 - accuracy: 0.9597\n",
      "Epoch 63/100\n",
      "149/149 [==============================] - 0s 66us/sample - loss: 0.4132 - accuracy: 0.9597\n",
      "Epoch 64/100\n",
      "149/149 [==============================] - 0s 56us/sample - loss: 0.4091 - accuracy: 0.9530\n",
      "Epoch 65/100\n",
      "149/149 [==============================] - 0s 63us/sample - loss: 0.4048 - accuracy: 0.9530\n",
      "Epoch 66/100\n",
      "149/149 [==============================] - 0s 58us/sample - loss: 0.4001 - accuracy: 0.9597\n",
      "Epoch 67/100\n",
      "149/149 [==============================] - 0s 57us/sample - loss: 0.3959 - accuracy: 0.9597\n",
      "Epoch 68/100\n",
      "149/149 [==============================] - 0s 62us/sample - loss: 0.3919 - accuracy: 0.9664\n",
      "Epoch 69/100\n",
      "149/149 [==============================] - 0s 56us/sample - loss: 0.3885 - accuracy: 0.9597\n",
      "Epoch 70/100\n",
      "149/149 [==============================] - 0s 65us/sample - loss: 0.3836 - accuracy: 0.9664\n",
      "Epoch 71/100\n",
      "149/149 [==============================] - 0s 62us/sample - loss: 0.3797 - accuracy: 0.9664\n",
      "Epoch 72/100\n",
      "149/149 [==============================] - 0s 63us/sample - loss: 0.3759 - accuracy: 0.9732\n",
      "Epoch 73/100\n",
      "149/149 [==============================] - 0s 69us/sample - loss: 0.3732 - accuracy: 0.9664\n",
      "Epoch 74/100\n",
      "149/149 [==============================] - 0s 54us/sample - loss: 0.3692 - accuracy: 0.9597\n",
      "Epoch 75/100\n",
      "149/149 [==============================] - 0s 67us/sample - loss: 0.3649 - accuracy: 0.9732\n",
      "Epoch 76/100\n",
      "149/149 [==============================] - 0s 57us/sample - loss: 0.3610 - accuracy: 0.9664\n",
      "Epoch 77/100\n",
      "149/149 [==============================] - 0s 58us/sample - loss: 0.3570 - accuracy: 0.9732\n",
      "Epoch 78/100\n",
      "149/149 [==============================] - 0s 64us/sample - loss: 0.3536 - accuracy: 0.9732\n",
      "Epoch 79/100\n",
      "149/149 [==============================] - 0s 60us/sample - loss: 0.3500 - accuracy: 0.9732\n",
      "Epoch 80/100\n",
      "149/149 [==============================] - 0s 65us/sample - loss: 0.3469 - accuracy: 0.9732\n",
      "Epoch 81/100\n",
      "149/149 [==============================] - 0s 63us/sample - loss: 0.3432 - accuracy: 0.9732\n",
      "Epoch 82/100\n",
      "149/149 [==============================] - 0s 65us/sample - loss: 0.3395 - accuracy: 0.9732\n",
      "Epoch 83/100\n",
      "149/149 [==============================] - 0s 69us/sample - loss: 0.3361 - accuracy: 0.9732\n",
      "Epoch 84/100\n",
      "149/149 [==============================] - 0s 57us/sample - loss: 0.3334 - accuracy: 0.9732\n",
      "Epoch 85/100\n",
      "149/149 [==============================] - 0s 73us/sample - loss: 0.3296 - accuracy: 0.9732\n",
      "Epoch 86/100\n",
      "149/149 [==============================] - 0s 71us/sample - loss: 0.3265 - accuracy: 0.9732\n",
      "Epoch 87/100\n",
      "149/149 [==============================] - 0s 89us/sample - loss: 0.3231 - accuracy: 0.9732\n",
      "Epoch 88/100\n",
      "149/149 [==============================] - 0s 85us/sample - loss: 0.3204 - accuracy: 0.9732\n",
      "Epoch 89/100\n",
      "149/149 [==============================] - 0s 71us/sample - loss: 0.3176 - accuracy: 0.9732\n",
      "Epoch 90/100\n",
      "149/149 [==============================] - 0s 71us/sample - loss: 0.3150 - accuracy: 0.9732\n",
      "Epoch 91/100\n",
      "149/149 [==============================] - 0s 71us/sample - loss: 0.3113 - accuracy: 0.9732\n",
      "Epoch 92/100\n",
      "149/149 [==============================] - 0s 76us/sample - loss: 0.3085 - accuracy: 0.9732\n",
      "Epoch 93/100\n",
      "149/149 [==============================] - 0s 72us/sample - loss: 0.3062 - accuracy: 0.9732\n",
      "Epoch 94/100\n",
      "149/149 [==============================] - 0s 72us/sample - loss: 0.3023 - accuracy: 0.9732\n",
      "Epoch 95/100\n",
      "149/149 [==============================] - 0s 71us/sample - loss: 0.2999 - accuracy: 0.9732\n",
      "Epoch 96/100\n",
      "149/149 [==============================] - 0s 70us/sample - loss: 0.2967 - accuracy: 0.9732\n",
      "Epoch 97/100\n",
      "149/149 [==============================] - 0s 68us/sample - loss: 0.2939 - accuracy: 0.9732\n",
      "Epoch 98/100\n",
      "149/149 [==============================] - 0s 68us/sample - loss: 0.2915 - accuracy: 0.9732\n",
      "Epoch 99/100\n",
      "149/149 [==============================] - 0s 70us/sample - loss: 0.2884 - accuracy: 0.9732\n",
      "Epoch 100/100\n",
      "149/149 [==============================] - 0s 66us/sample - loss: 0.2855 - accuracy: 0.9732\n"
     ]
    },
    {
     "data": {
      "text/plain": [
       "<tensorflow.python.keras.callbacks.History at 0x148c16400>"
      ]
     },
     "execution_count": 84,
     "metadata": {},
     "output_type": "execute_result"
    }
   ],
   "source": [
    "model.fit(train_features, train_labels, epochs=100)"
   ]
  },
  {
   "cell_type": "markdown",
   "metadata": {},
   "source": [
    "### 모델로 예측하기"
   ]
  },
  {
   "cell_type": "code",
   "execution_count": 85,
   "metadata": {},
   "outputs": [
    {
     "data": {
      "text/plain": [
       "array([[0.00594617, 0.34462258, 0.6494312 ]], dtype=float32)"
      ]
     },
     "execution_count": 85,
     "metadata": {},
     "output_type": "execute_result"
    }
   ],
   "source": [
    "prediction = model.predict(test_features)\n",
    "prediction"
   ]
  },
  {
   "cell_type": "code",
   "execution_count": 50,
   "metadata": {},
   "outputs": [
    {
     "data": {
      "text/plain": [
       "array([2], dtype=int8)"
      ]
     },
     "execution_count": 50,
     "metadata": {},
     "output_type": "execute_result"
    }
   ],
   "source": [
    "test_labels"
   ]
  },
  {
   "cell_type": "code",
   "execution_count": null,
   "metadata": {},
   "outputs": [],
   "source": []
  }
 ],
 "metadata": {
  "kernelspec": {
   "display_name": "Python 3",
   "language": "python",
   "name": "python3"
  },
  "language_info": {
   "codemirror_mode": {
    "name": "ipython",
    "version": 3
   },
   "file_extension": ".py",
   "mimetype": "text/x-python",
   "name": "python",
   "nbconvert_exporter": "python",
   "pygments_lexer": "ipython3",
   "version": "3.7.2"
  }
 },
 "nbformat": 4,
 "nbformat_minor": 2
}
